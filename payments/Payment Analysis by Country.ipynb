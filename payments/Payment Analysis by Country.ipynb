{
 "cells": [
  {
   "cell_type": "markdown",
   "metadata": {
    "collapsed": true
   },
   "source": [
    "This notebook can be used to analyze payments by country and response code.\n",
    "\n",
    "The database credentials will need to be passed on the command line as environment variables:\n",
    "\n",
    "\tECOMMERCE_REPLICA_DB_HOST=\"db.example.com\" ECOMMERCE_REPLICA_DB_USER=\"db_user\" ECOMMERCE_REPLICA_DB_PASSWORD=\"db_pass\" jupyter notebook\n"
   ]
  },
  {
   "cell_type": "code",
   "execution_count": null,
   "metadata": {},
   "outputs": [],
   "source": [
    "\n",
    "import os\n",
    "\n",
    "import MySQLdb\n",
    "\n",
    "db = MySQLdb.connect(\n",
    "    host=os.environ['ECOMMERCE_REPLICA_DB_HOST'],\n",
    "    database='ecommerce',\n",
    "    user=os.environ['ECOMMERCE_REPLICA_DB_USER'],\n",
    "    password=os.environ['ECOMMERCE_REPLICA_DB_PASSWORD']\n",
    ")\n",
    "cursor = db.cursor(cursorclass=MySQLdb.cursors.DictCursor)\n",
    "cursor.execute('SELECT 1;')\n",
    "print(\"Database connected!\")\n"
   ]
  },
  {
   "cell_type": "code",
   "execution_count": null,
   "metadata": {},
   "outputs": [],
   "source": [
    "cursor.execute(\"\"\"\n",
    "SELECT\n",
    "  ppr.id,\n",
    "  ppr.basket_id,\n",
    "  u.username,\n",
    "  ppr.response\n",
    "FROM\n",
    "  payment_paymentprocessorresponse ppr\n",
    "  JOIN basket_basket b ON ppr.basket_id = b.id\n",
    "  JOIN ecommerce_user u ON b.owner_id = u.id\n",
    "WHERE\n",
    "  ppr.created BETWEEN '2017-08-01' AND '2017-08-31'\n",
    "  AND ppr.processor_name = 'cybersource'\n",
    "\"\"\")"
   ]
  },
  {
   "cell_type": "code",
   "execution_count": null,
   "metadata": {},
   "outputs": [],
   "source": [
    "import json\n",
    "import pandas as pd\n",
    "\n",
    "payments = []\n",
    "\n",
    "for row in cursor:\n",
    "    response = json.loads(row['response'])\n",
    "    payments.append({\n",
    "        'country': response.get('req_bill_to_address_country'),\n",
    "        'accepted': 1 if response.get('decision') == 'ACCEPT' else 0,\n",
    "        'reason_code': response.get('reason_code'),\n",
    "        'amount': response.get('req_amount'),\n",
    "    })\n",
    "\n",
    "data = pd.DataFrame(payments)\n",
    "data"
   ]
  },
  {
   "cell_type": "markdown",
   "metadata": {},
   "source": [
    "## Overall acceptance rate"
   ]
  },
  {
   "cell_type": "code",
   "execution_count": null,
   "metadata": {},
   "outputs": [],
   "source": [
    "data['accepted'].mean()\n"
   ]
  },
  {
   "cell_type": "code",
   "execution_count": null,
   "metadata": {},
   "outputs": [],
   "source": [
    "data.groupby('country') \\\n",
    "    .agg({'country': 'size', 'accepted': 'mean'}) \\\n",
    "    .rename(columns={'country': 'count', 'accepted': 'acceptance_rate'}) \\\n",
    "    .sort_values('count', ascending=False)\n"
   ]
  },
  {
   "cell_type": "code",
   "execution_count": null,
   "metadata": {},
   "outputs": [],
   "source": [
    "# Reason code explanations at https://support.cybersource.com/cybskb/index?page=content&id=C156\n",
    "reason_code_groups = data.groupby('reason_code').size().reset_index(name='counts').sort_values('counts', ascending=False)\n",
    "reason_code_groups['percentage'] = reason_code_groups['counts'] / reason_code_groups['counts'].sum()\n",
    "reason_code_groups\n"
   ]
  },
  {
   "cell_type": "code",
   "execution_count": null,
   "metadata": {},
   "outputs": [],
   "source": [
    "indian_reason_code_groups = data.groupby('country').get_group('IN').groupby('reason_code').size().reset_index(name='counts').sort_values('counts', ascending=False)\n",
    "indian_reason_code_groups['percentage'] = indian_reason_code_groups['counts'] / indian_reason_code_groups['counts'].sum()\n",
    "indian_reason_code_groups\n"
   ]
  },
  {
   "cell_type": "code",
   "execution_count": null,
   "metadata": {},
   "outputs": [],
   "source": [
    "usa_reason_code_groups = data.groupby('country').get_group('US').groupby('reason_code').size().reset_index(name='counts').sort_values('counts', ascending=False)\n",
    "usa_reason_code_groups['percentage'] = usa_reason_code_groups['counts'] / usa_reason_code_groups['counts'].sum()\n",
    "usa_reason_code_groups\n"
   ]
  },
  {
   "cell_type": "code",
   "execution_count": null,
   "metadata": {},
   "outputs": [],
   "source": []
  }
 ],
 "metadata": {
  "kernelspec": {
   "display_name": "Python 3",
   "language": "python",
   "name": "python3"
  },
  "language_info": {
   "codemirror_mode": {
    "name": "ipython",
    "version": 3
   },
   "file_extension": ".py",
   "mimetype": "text/x-python",
   "name": "python",
   "nbconvert_exporter": "python",
   "pygments_lexer": "ipython3",
   "version": "3.6.2"
  }
 },
 "nbformat": 4,
 "nbformat_minor": 1
}
